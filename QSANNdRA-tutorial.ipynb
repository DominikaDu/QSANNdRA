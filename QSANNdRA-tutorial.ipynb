{
 "cells": [
  {
   "cell_type": "markdown",
   "id": "3f6ad604-3528-4f51-9f04-b32a3cfbeb28",
   "metadata": {},
   "source": [
    "# QSANNdRA tutorial"
   ]
  },
  {
   "cell_type": "markdown",
   "id": "75a274c6-a34a-4307-929c-4fcf2d99686d",
   "metadata": {},
   "source": [
    "Creator: Dominika Ďurovčíková\n",
    "\n",
    "This notebook provides a tutorial on how to set up and run the QSANNdRA model for predicting quasar continua. This code was developed and first implemented in [Ďurovčíková et al. 2020](https://ui.adsabs.harvard.edu/abs/2020MNRAS.493.4256D/abstract), and it was most recently updated as a result of [Ďurovčíková et al. 2024](https://ui.adsabs.harvard.edu/abs/2024arXiv240110328D/abstract).\n",
    "\n",
    "Please cite both references if you use this code."
   ]
  },
  {
   "cell_type": "markdown",
   "id": "1e71b142-4a5b-46b4-8d41-1e191ec99f51",
   "metadata": {},
   "source": [
    "## Setup"
   ]
  },
  {
   "cell_type": "markdown",
   "id": "0db15f55",
   "metadata": {},
   "source": [
    "Set your parameters:"
   ]
  },
  {
   "cell_type": "code",
   "execution_count": null,
   "id": "43bfad70-7bd6-46cc-aaeb-3724a3ec93bf",
   "metadata": {},
   "outputs": [],
   "source": [
    "version = '0' # for versioning purposes\n",
    "\n",
    "lam_in = [1290, 2400] # input wavelength range in AA\n",
    "lam_out = [1050, 1290] # output/prediction wavelength range in AA\n",
    "\n",
    "lam_norm = 1290 # wavelength at which to normalize spectra to 1\n",
    "\n",
    "snr_thres = 3.0 "
   ]
  },
  {
   "cell_type": "markdown",
   "id": "10b1622b",
   "metadata": {},
   "source": [
    "Import necessary packages:"
   ]
  },
  {
   "cell_type": "code",
   "execution_count": null,
   "id": "fc664771-71d7-4e97-9701-7a4377753bab",
   "metadata": {},
   "outputs": [],
   "source": [
    "import os\n",
    "import numpy as np \n",
    "from astropy.io import fits \n",
    "import pandas as pd\n",
    "import preprocessing as pr\n",
    "import QSANNdRA as Q\n",
    "import QSmooth as QS"
   ]
  },
  {
   "cell_type": "markdown",
   "id": "dceaa80c",
   "metadata": {},
   "source": [
    "Create the directory structure:"
   ]
  },
  {
   "cell_type": "code",
   "execution_count": null,
   "id": "637abf0c",
   "metadata": {},
   "outputs": [],
   "source": [
    "if os.path.isdir('data/') == False:\n",
    "    os.mkdir('data/')\n",
    "if os.path.isdir('data/dataframes/') == False:\n",
    "    os.mkdir('data/dataframes/')\n",
    "if os.path.isdir('data/dataframes/'+str(version)) == False:\n",
    "    os.mkdir('data/dataframes/'+str(version))\n",
    "if os.path.isdir('models/') == False:\n",
    "    os.mkdir('models/')\n",
    "if os.path.isdir('models/'+str(version)+'/') == False:\n",
    "    os.mkdir('models/'+str(version)+'/')\n",
    "if os.path.isdir('models/'+str(version)+'/errors/') == False:\n",
    "    os.mkdir('models/'+str(version)+'/errors/')\n",
    "if os.path.isdir('models/'+str(version)+'/preprocessing_models/') == False:\n",
    "    os.mkdir('models/'+str(version)+'/preprocessing_models/')\n",
    "if os.path.isdir('models/'+str(version)+'/QSANNdRA/') == False:\n",
    "    os.mkdir('models/'+str(version)+'/QSANNdRA/')\n",
    "if os.path.isdir('plots/') == False:\n",
    "    os.mkdir('plots/')\n",
    "if os.path.isdir('plots/preprocessing/') == False:\n",
    "    os.mkdir('plots/preprocessing/')\n",
    "if os.path.isdir('plots/preprocessing/'+version+'/') == False:\n",
    "    os.mkdir('plots/preprocessing/'+version+'/')"
   ]
  },
  {
   "cell_type": "markdown",
   "id": "1c07e957-fcb2-459d-ab78-8c0cb9fd629d",
   "metadata": {},
   "source": [
    "## Downloading catalog and SDSS training data"
   ]
  },
  {
   "cell_type": "code",
   "execution_count": null,
   "id": "b6f84b77-0b79-4500-842e-ddf981a9435e",
   "metadata": {},
   "outputs": [],
   "source": [
    "catalog = 'catalogs/DR16Q_v4.fits'\n",
    "fits_directory = 'SDSS_quasars/'\n",
    "tag = '_'+version\n",
    "\n",
    "if os.path.isdir('SDSS_quasars/') == False:\n",
    "    os.mkdir('SDSS_quasars/')\n",
    "\n",
    "# relevant redshifts to cover desired wavelength range in SDSS\n",
    "z_start = 3600./lam_out[0] - 1\n",
    "z_end = 10000./lam_in[1] - 1 \n",
    "print('fetching SDSS spectra in the redshift range '+str(z_start)+'-'+str(z_end))\n",
    "\n",
    "qsos = pr.perform_catalog_cut(catalog=catalog, z_start=z_start, z_end=z_end, snr=snr_thres, out_file=None, uncertain_BALs=False)\n",
    "pr.download_spec_files(qsos,fits_directory,tag)\n",
    "\n",
    "print('Run the following in the terminal (for Macs):')\n",
    "print('cat download_SDSS'+tag+'.txt | xargs -n 1 -P 10 wget --directory-prefix='+fits_directory)"
   ]
  },
  {
   "cell_type": "markdown",
   "id": "4d936f93-241a-4d60-afad-1304567ba2aa",
   "metadata": {},
   "source": [
    "## Training set preparation"
   ]
  },
  {
   "cell_type": "code",
   "execution_count": null,
   "id": "17f8c580-d5c7-43cf-a22a-6ee39b623546",
   "metadata": {},
   "outputs": [],
   "source": [
    "# Preprocess training data according to Section 2.1 in Ďurovčíková et al. 2020.\n",
    "# Note: inspect plots in /plots/preprocessing/+version+/ and adjust smoothing parameters (smooth_b, smooth_r, thr) in pr.preprocess_training_data() accordingly\n",
    "\n",
    "Df, Df_norm = pr.preprocess_training_data(qsos=qsos, input_directory=fits_directory, output_spectra_file='data/dataframes/'+str(version)+'/training_spectra_all.csv', output_norm_file='data/dataframes/'+str(version)+'/training_spectra_norms_all.csv', SN_threshold=snr_thres, norm_lam=lam_norm, lam_in=lam_in, lam_out=lam_out, version=version)\n",
    "Df = pd.read_csv('data/dataframes/'+str(version)+'/training_spectra_all.csv')\n",
    "Df_norm = pd.read_csv('data/dataframes/'+str(version)+'/training_spectra_norms_all.csv')\n",
    "Df_new = pr.perform_flux_cut(Df=Df, thres_lam=1280)\n",
    "Df_train, Df_train_norm = pr.prepare_training_set(input_spectra_file=Df_new,input_norm_file=Df_norm,output_spectra_file='data/dataframes/'+str(version)+'/training_spectra.csv',\\\n",
    "    output_norm_file='data/dataframes/'+str(version)+'/training_spectra_norms.csv',lam_in=lam_in,lam_out=lam_out)\n",
    "\n",
    "Df = []\n",
    "Df_new = []\n",
    "Df_norm = []\n",
    "\n",
    "# Refine the training set with Random Forest predictions as described in Section 2.2 in Ďurovčíková et al. 2020 and save both cleaned and rejected datasets.\n",
    "\n",
    "spectra_clean, norms_clean, spectra_bad, norms_bad = pr.RF_cleanup(spectra_file='data/dataframes/'+str(version)+'/training_spectra.csv',norms_file='data/dataframes/'+str(version)+'/training_spectra_norms.csv',\\\n",
    "    path_to_clean_spectra='data/dataframes/'+str(version)+'/training_spectra_cleaned.csv',path_to_bad_spectra='data/dataframes/'+str(version)+'/training_spectra_bad.csv',\\\n",
    "        path_to_clean_norms='data/dataframes/'+str(version)+'/training_spectra_norms_cleaned.csv',path_to_bad_norms='data/dataframes/'+str(version)+'/training_spectra_norms_bad.csv')\n",
    "\n",
    "\n",
    "pr.display_random_spectra('cleaned',lam_out,n=100,version=version)\n",
    "pr.display_random_spectra('bad',lam_out,n=100,version=version)\n"
   ]
  },
  {
   "cell_type": "markdown",
   "id": "a14edfe4-ce56-4567-839d-06de3a3dafe4",
   "metadata": {},
   "source": [
    "## Setting up and training QSANNdRA"
   ]
  },
  {
   "cell_type": "code",
   "execution_count": null,
   "id": "41201af5-9b28-4e3c-91a2-5d186a68b775",
   "metadata": {},
   "outputs": [],
   "source": [
    "# Fix random seed for reproducibility\n",
    "seed = 7\n",
    "np.random.seed(seed)\n",
    "\n",
    "training_spectra = 'data/dataframes/'+str(version)+'/training_spectra_cleaned.csv'\n",
    "training_norms = 'data/dataframes/'+str(version)+'/training_spectra_norms_cleaned.csv'\n",
    "path_to_models = 'models/'+str(version)+'/'\n",
    "\n",
    "if os.path.isdir(path_to_models) == False:\n",
    "    os.mkdir(path_to_models)\n",
    "\n",
    "preds, mean_preds = Q.get_QSANNdRA(training_spectra=training_spectra,training_norms=training_norms,models_save=True,path_to_models=path_to_models,C=100,load=False,save_errs=True)\n",
    "\n",
    "Q.get_QSANNdRA(training_spectra=training_spectra,training_norms=training_norms,models_save=False,path_to_models=path_to_models,C=100,load=True,save_errs=False)\n",
    "\n",
    "Q.plot_QSANNdRA_performance(path_to_models,training_spectra,training_norms,lam_out)"
   ]
  },
  {
   "cell_type": "markdown",
   "id": "2a11ede5-d258-4793-a2f6-3a5d985ec091",
   "metadata": {},
   "source": [
    "## Applying QSANNdRA to new quasars"
   ]
  },
  {
   "cell_type": "markdown",
   "id": "e263317b",
   "metadata": {},
   "source": [
    "This step will depend on the specifics of the data you want to apply QSANNdRA to. Here, I show how to apply the trained model to a random SDSS spectrum."
   ]
  },
  {
   "cell_type": "code",
   "execution_count": null,
   "id": "bf633fa3",
   "metadata": {},
   "outputs": [],
   "source": [
    "# function that opens the .fits file of the target spectrum, smooths it, and extracts the blue and red sides as well as the normalization at 1290 AA\n",
    "# adjust to the specifics of your data!!\n",
    "# in particular smooth_b, smooth_r, and thr should be adjusted for an optimal extraction of the red-side continuum\n",
    "\n",
    "def prepare_spectrum(input_directory,filename,lam_in,lam_out,norm_lam,smooth_b=0.99999999,smooth_r=0.9999999,thr=2.0):\n",
    "    norm_loglam = np.around(np.log10(norm_lam),decimals=4)\n",
    "    loglam_target_in = np.around(np.arange(np.log10(lam_in[0]),np.log10(lam_in[1]),0.0001),decimals=4)\n",
    "    loglam_target_out = np.around(np.arange(np.log10(lam_out[0]),np.log10(lam_out[1]),0.0001),decimals=4)\n",
    "\n",
    "    spec = fits.open(str(input_directory)+str(filename))\n",
    "    z = spec[2].data['Z']\n",
    "    mask = spec[1].data['and_mask']\n",
    "    flux = spec[1].data['flux'][mask == 0]\n",
    "    wave = (10**spec[1].data['loglam'][mask == 0])/(1+z)\n",
    "    ivar = spec[1].data['ivar'][mask == 0]\n",
    "    spec.close()\n",
    "\n",
    "    # smooth\n",
    "    print(smooth_b)\n",
    "    int_spec, outlier_mask = QS.spline_smooth(np.log10(wave),flux,1/np.sqrt(ivar),smooth_b,smooth_r,thr)\n",
    "\n",
    "    # input range\n",
    "    int_flux = int_spec(loglam_target_in) # interpolate to target input wavelengths\n",
    "    spec_id = [str(filename)]\n",
    "    df = pd.DataFrame(data=[int_flux],columns=loglam_target_in,index=spec_id)\n",
    "    norm_flux = df.iloc[0].at[norm_loglam]\n",
    "    df_norm = df.divide(norm_flux)\n",
    "    df_norm = df_norm.drop(columns=norm_loglam)\n",
    "    red = df_norm.loc[:,:].values[:,:]\n",
    "\n",
    "    # output range\n",
    "    int_flux = int_spec(loglam_target_out) # interpolate to target output wavelengths\n",
    "    spec_id = [str(filename)]\n",
    "    df = pd.DataFrame(data=[int_flux],columns=loglam_target_out,index=spec_id)\n",
    "    df_norm = df.divide(norm_flux)\n",
    "    try:\n",
    "        df_norm = df_norm.drop(columns=norm_loglam)\n",
    "    except:\n",
    "        print('exception, nothing to worry about')\n",
    "    blue = df_norm.loc[:,:].values[:,:]\n",
    "    \n",
    "    return blue, red, norm_flux\n"
   ]
  },
  {
   "cell_type": "code",
   "execution_count": null,
   "id": "7871501d",
   "metadata": {},
   "outputs": [],
   "source": [
    "# choose a random spectrum and prepare directories\n",
    "np.random.seed(1)\n",
    "tid = np.random.choice(os.listdir(fits_directory))\n",
    "path_apply = 'data/apply/'\n",
    "if os.path.isdir(path_apply) == False:\n",
    "    os.mkdir(path_apply)\n",
    "if os.path.isdir(path_apply+str(tid)[:-5]) == False:\n",
    "    os.mkdir(path_apply+str(tid)[:-5])\n",
    "\n",
    "# preprocess spectrum\n",
    "blue, red, norm = prepare_spectrum(fits_directory,tid,lam_in=lam_in,lam_out=lam_out,norm_lam=lam_norm,smooth_b=0.99999999,smooth_r=0.9999999,thr=2.0)\n",
    "\n",
    "tid = tid[:-5]\n",
    "\n",
    "mean_prediction, predictions = Q.apply_QSANNdRA(path_to_files=path_apply,red=red[:,1:],lam_out=lam_out,norm_lam=lam_norm,path_to_models=path_to_models,specname=tid,norm=norm)\n",
    "\n",
    "Q.plot_predictions(path_to_files=fits_directory,path_to_plots=path_apply,specname=tid,lam_in=lam_in,lam_out=lam_out,red=red,predictions=predictions,mean_prediction=mean_prediction,norm=norm)"
   ]
  }
 ],
 "metadata": {
  "kernelspec": {
   "display_name": "Python 3 (ipykernel)",
   "language": "python",
   "name": "python3"
  },
  "language_info": {
   "codemirror_mode": {
    "name": "ipython",
    "version": 3
   },
   "file_extension": ".py",
   "mimetype": "text/x-python",
   "name": "python",
   "nbconvert_exporter": "python",
   "pygments_lexer": "ipython3",
   "version": "3.9.18"
  }
 },
 "nbformat": 4,
 "nbformat_minor": 5
}
